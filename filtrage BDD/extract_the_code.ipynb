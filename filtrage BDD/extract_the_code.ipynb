{
 "cells": [
  {
   "cell_type": "code",
   "execution_count": 7,
   "id": "c9bbd3f7",
   "metadata": {},
   "outputs": [
    {
     "name": "stdout",
     "output_type": "stream",
     "text": [
      "Stylo bille Slider Edge XB bleu\n",
      "21787\n",
      "1301004\n"
     ]
    }
   ],
   "source": [
    "import pandas as pd\n",
    "import re\n",
    "import unidecode\n",
    "data=pd.read_excel('Mini Catalogue V2.xlsx', skiprows=1).reset_index(drop=True) \n",
    "L=697\n",
    "print(data[\"Désignation\"][L])\n",
    "print(data[\"N°\"][L])\n",
    "print(data[\"Code catégorie\"][L])"
   ]
  },
  {
   "cell_type": "code",
   "execution_count": 8,
   "id": "eefed9c8",
   "metadata": {},
   "outputs": [],
   "source": [
    "df = pd.DataFrame(data=data[\"Désignation\"])\n",
    "df2 = pd.DataFrame(data=data[\"N°\"])\n",
    "df3= pd.DataFrame(data=data[\"Code catégorie\"])\n"
   ]
  },
  {
   "cell_type": "code",
   "execution_count": 9,
   "id": "c2247e1d",
   "metadata": {},
   "outputs": [
    {
     "name": "stdout",
     "output_type": "stream",
     "text": [
      "        N° Code catégorie\n",
      "1    54568        2200240\n",
      "2    37721        2200240\n",
      "3    10908        2200240\n",
      "5    15972        2200230\n",
      "6    15971        2200230\n",
      "..     ...            ...\n",
      "982  61770        2001012\n",
      "983  28646        2001012\n",
      "984   9040        2001012\n",
      "985  78756        2001010\n",
      "986  78757        2001007\n",
      "\n",
      "[871 rows x 2 columns]\n"
     ]
    }
   ],
   "source": [
    "df_cat=pd.concat([df2[\"N°\"],df3[\"Code catégorie\"]], axis=1)\n",
    "df_cat = df_cat.dropna(axis = 0)\n",
    "print(df_cat)"
   ]
  },
  {
   "cell_type": "code",
   "execution_count": 11,
   "id": "0674dfcf",
   "metadata": {},
   "outputs": [
    {
     "name": "stdout",
     "output_type": "stream",
     "text": [
      "   quantite reference     Code\n",
      "0         2     81597  1501402\n",
      "1         0     68238      NaN\n",
      "2         1  12471U10      NaN\n",
      "3         0     20230      NaN\n",
      "4         1     67587      NaN\n"
     ]
    }
   ],
   "source": [
    "data2=pd.read_excel('..\\matching liste-BDD\\output.xlsx', skiprows=0).reset_index(drop=True) \n",
    "df_result=data2[\"reference\"]\n",
    "df_quant=data2[\"quantite\"]\n",
    "df_cat2 = df_cat[:].values\n",
    "liste_code=[]\n",
    "for i in df_result:\n",
    "    for j in df_cat2:\n",
    "        if i==j[0]:\n",
    "            liste_code.append(j[1])\n",
    "            \n",
    "import pandas as pd\n",
    "  \n",
    "df_code  = pd.DataFrame(data=liste_code)\n",
    "df_code.set_axis(['Code'], axis='columns', inplace=True)\n",
    "df_cat3=pd.concat([df_quant,df_result,df_code], axis=1)\n",
    "print(df_cat3)\n",
    "df_cat3.to_excel('result_code.xlsx',index=False) \n",
    "a = pd.read_excel('result_code.xlsx')\n",
    "#print(a)"
   ]
  },
  {
   "cell_type": "markdown",
   "id": "901681a7",
   "metadata": {},
   "source": [
    "# préférentiels"
   ]
  },
  {
   "cell_type": "code",
   "execution_count": 9,
   "id": "a478fdb7",
   "metadata": {},
   "outputs": [
    {
     "name": "stdout",
     "output_type": "stream",
     "text": [
      "0        20294\n",
      "1        20230\n",
      "2        42581\n",
      "3        42580\n",
      "4        79851\n",
      "5        79853\n",
      "6        83205\n",
      "7        30902\n",
      "8        79857\n",
      "9         2831\n",
      "10       81598\n",
      "11       30456\n",
      "12       11163\n",
      "13       64140\n",
      "14       25050\n",
      "15       25051\n",
      "16       58700\n",
      "17    76123U50\n",
      "18          10\n",
      "19          11\n",
      "20          12\n",
      "21          13\n",
      "22       34466\n",
      "23       34653\n",
      "24       89697\n",
      "25       89698\n",
      "26        1280\n",
      "27        1281\n",
      "28        1282\n",
      "29        1283\n",
      "30       64132\n",
      "31       68436\n",
      "32       35329\n",
      "33       59936\n",
      "34       60825\n",
      "35       79842\n",
      "36       78324\n",
      "37       79846\n",
      "38       81580\n",
      "39       79844\n",
      "40       79847\n",
      "41       68250\n",
      "42       71966\n",
      "43       71967\n",
      "44       71968\n",
      "45       61331\n",
      "46       63207\n",
      "47       72821\n",
      "48        2982\n",
      "49       16298\n",
      "50       73034\n",
      "51       00BL1\n",
      "Name: ref, dtype: object\n",
      "         ref     Code\n",
      "0      20294  2201202\n",
      "1      20230  2201402\n",
      "2      42581  2201404\n",
      "3      42580  2201406\n",
      "4      79851  1250214\n",
      "5      79853  1250214\n",
      "6      83205  1250218\n",
      "7      30902  1250222\n",
      "8      79857  1250222\n",
      "9       2831  1250222\n",
      "10     81598  1250222\n",
      "11     30456  1400232\n",
      "12     11163  1400202\n",
      "13     64140  1400404\n",
      "14     25050  1400414\n",
      "15     25051  1400802\n",
      "16     58700  1402426\n",
      "17  76123U50  1301002\n",
      "18        10  1301002\n",
      "19        11  1301002\n",
      "20        12  1301002\n",
      "21        13  1301006\n",
      "22     34466  1300412\n",
      "23     34653  1301408\n",
      "24     89697  1301408\n",
      "25     89698  1302010\n",
      "26      1280  1302010\n",
      "27      1281  1302010\n",
      "28      1282  1302010\n",
      "29      1283  1302204\n",
      "30     64132  1304002\n",
      "31     68436  1303004\n",
      "32     35329  1502002\n",
      "33     59936  1502245\n",
      "34     60825  1502202\n",
      "35     79842  1502202\n",
      "36     78324  1502205\n",
      "37     79846  1502205\n",
      "38     81580  1502215\n",
      "39     79844  1502225\n",
      "40     79847  1600402\n",
      "41     68250  1500810\n",
      "42     71966  1500810\n",
      "43     71967  1500810\n",
      "44     71968  1501002\n",
      "45     61331  1251202\n",
      "46     63207  1901414\n",
      "47     72821  1905024\n",
      "48      2982  1905024\n",
      "49     16298  1800412\n",
      "50     73034  1606002\n",
      "51     00BL1      NaN\n"
     ]
    }
   ],
   "source": [
    "data2=pd.read_excel('Liste_avec_produits_par_défaut.xlsx', skiprows=0).reset_index(drop=True) \n",
    "data2=data2.dropna()\n",
    "df_result=data2[\"Unnamed: 1\"].dropna()\n",
    "df_result=df_result.iloc[2:]\n",
    "df_result = df_result.rename('ref')\n",
    "df_result.reset_index(inplace = True, drop = True)\n",
    "\n",
    "print(df_result)\n",
    "data2.drop([\"Unnamed: 0\",\"Unnamed: 3\"],axis=1)\n",
    "df_cat2 = df_cat[:].values\n",
    "liste_code=[]\n",
    "\n",
    "\n",
    "for i in df_result:\n",
    "    for j in df_cat2:\n",
    "        if i==j[0]:\n",
    "            liste_code.append(j[1])\n",
    "            \n",
    "import pandas as pd\n",
    "  \n",
    "df_code  = pd.DataFrame(data=liste_code)\n",
    "df_code.set_axis(['Code'], axis='columns', inplace=True)\n",
    "df_cat3=pd.concat([df_result,df_code], axis=1)\n",
    "print(df_cat3)\n",
    "df_cat3.to_excel('code_prio.xlsx',index=False) \n",
    "a = pd.read_excel('code_prio.xlsx')\n",
    "#print(a)"
   ]
  },
  {
   "cell_type": "code",
   "execution_count": null,
   "id": "e8995ca9",
   "metadata": {},
   "outputs": [],
   "source": []
  },
  {
   "cell_type": "code",
   "execution_count": null,
   "id": "2e085a8e",
   "metadata": {},
   "outputs": [],
   "source": []
  }
 ],
 "metadata": {
  "kernelspec": {
   "display_name": "Python 3 (ipykernel)",
   "language": "python",
   "name": "python3"
  },
  "language_info": {
   "codemirror_mode": {
    "name": "ipython",
    "version": 3
   },
   "file_extension": ".py",
   "mimetype": "text/x-python",
   "name": "python",
   "nbconvert_exporter": "python",
   "pygments_lexer": "ipython3",
   "version": "3.8.11"
  }
 },
 "nbformat": 4,
 "nbformat_minor": 5
}
