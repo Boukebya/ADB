{
 "cells": [
  {
   "cell_type": "code",
   "execution_count": 27,
   "id": "69ff69d9",
   "metadata": {},
   "outputs": [
    {
     "name": "stdout",
     "output_type": "stream",
     "text": [
      "772\n",
      "Pochette de 12 feuilles à dessin 224g format 24x32 cm \n",
      "43004\n"
     ]
    }
   ],
   "source": [
    "import pandas as pd\n",
    "import re\n",
    "import unidecode\n",
    "data=pd.read_excel('Mini Catalogue V2.xlsx', skiprows=1).reset_index(drop=True) \n",
    "L=10\n",
    "print(data[\"Page scolaire\"][L])\n",
    "\n",
    "print(data[\"Désignation\"][L])\n",
    "print(data[\"N°\"][L])"
   ]
  },
  {
   "cell_type": "code",
   "execution_count": 28,
   "id": "d5fe301c",
   "metadata": {},
   "outputs": [],
   "source": [
    "def clean(data):\n",
    "    data=data.lower() #lower caracter\n",
    "    data=unidecode.unidecode(data)\n",
    "\n",
    "    data=re.sub(r\"(ndeg) *\",r\"\\1\",data)\n",
    "    data=re.sub(r\"22,100\",r\"22, 100\",data)#pour la ref 03163U20\n",
    "    #data=re.sub(r\" x \",\"x\", data)\n",
    "    data=re.sub(r\"quadrille\",r\"\",data)\n",
    "    data=re.sub(r\"normalise\",r\"\",data)\n",
    "    data=re.sub(r\"5 *x *5\",r\"petitcarreau\",data)\n",
    "    data=re.sub(r\"carton a dessin\",r\"sacoche dessin\",data)\n",
    "    data=re.sub(r\"([0-9]{2})(,[0-9])* *[\\*x] *([0-9]{2})(,[0-9])*( *cm)*\",r\"\\1\\2x\\3\\4cm \", data)\n",
    "    #data=re.sub(r\"([0-9]{2})(,[0-9])* *[\\*x] *([0-9]{2})(,[0-9])*( *cm)*\",r\"\\1\\2x\\3\\4cm \", data)\n",
    "    #data=re.sub(r\"([0-9]{2} *[\\*x] [0-9]{2})(,[0-9])* *(cm)*\",\"\\1\\2cm\", data)\n",
    "    data=re.sub(r\" *x \",\"x\", data)\n",
    "    data=re.sub(r\"ux\",\"ux \", data)\n",
    "\n",
    "    data=re.sub(r\" cm\",\"cm\", data)\n",
    "    data=re.sub(r\" mm\",\"mm\", data)\n",
    "    data=re.sub(r\" m\\b\",\"m \", data)\n",
    "    data=re.sub(r\"([a-z])s\\b\",r\"\\1 \", data)#we remove the \"s\" at the end of the word \n",
    "    data=re.sub(r\"epaisseur\",\"\", data)\n",
    "    data=re.sub(r\" rond\",\" rond \", data)\n",
    "    data=re.sub(r\"porte bloc\",\"porte-bloc \", data)\n",
    "    data=re.sub(r\" porte bloc \",\" porte-bloc \", data)\n",
    "\n",
    "    data=re.sub(r\" top file *\\+ \",\" topfile+ \", data)\n",
    "    data=re.sub(r\" - \",r\" \",data)\n",
    "    data = re.sub(r\" *:( *)\",r\"\\1\",data)\n",
    "    data = re.sub(r\" *\\.( *)\",r\"\\1\",data) \n",
    "    data = re.sub(r\" *[(]( *)\",r\" \\1\",data) \n",
    "    data = re.sub(r\" *[)]( *)\",r\"\\1\",data) \n",
    "\n",
    "    #data=re.sub(r\"extra large\",\"extralarge\", data)\n",
    "    data=re.sub(r\"[ldscj]\\'\",\" \",data)\n",
    "\n",
    "    data=re.sub(r\" g\\b\",\"g\", data)\n",
    "    \n",
    "    data=re.sub(r\" \\bcouverture\",\"\", data)\n",
    "    data=re.sub(r\" format\",\"\", data)\n",
    "    data=re.sub(r\"([a-z]),([a-z0-9])\",r\"\\1 \\2\", data)\n",
    "    data=re.sub(r\", \",\" \", data)\n",
    "    \n",
    "    data=re.sub(r\"marqueur permanent indelebile\",r\"marqueur permanent\",data)\n",
    "    data=re.sub(r\"stylo bille bic\",r\"stylo bic\",data)\n",
    "    data=re.sub(r\"stylo bille\",r\"stylo bic\",data)\n",
    "    data=re.sub(r\"roller effacable\",r\"feutre effacable\",data)\n",
    "    data=re.sub(r\"machine a calculer\",r\"calculatrice\",data)\n",
    "    data=re.sub(r\"rouleau adhesif scotch\",r\"scotch\",data)\n",
    "    data=re.sub(r\"couvre livre\",r\"couvre-livre\",data)\n",
    "    data=re.sub(r\"rouleau adhesif\",r\"scotch\",data)\n",
    "    data=re.sub(r\"dessin c\",r\"papier canson\",data)\n",
    "    data=re.sub(r\"feutre effacable sec\",r\"marqueur effacable sec Velleda\",data)\n",
    "    data=re.sub(r\" page\",\"page\", data)\n",
    "    data=re.sub(r\"piqure\",\"cahier\",data)\n",
    "    data=re.sub(r\"noir,\",\"noir\",data)\n",
    "    data=re.sub(r\"surligneur\",\"stabilo\",data)\n",
    "    data=re.sub(r\"integrale\",\"\",data)\n",
    "    data=re.sub(r\"spirale\",\"reliure\",data)\n",
    "    data=re.sub(r\"peinture\",\"gouache\",data)\n",
    "    data=re.sub(r\"chemise\",\"pochette\",data)\n",
    "    data=re.sub(r\"fourre-tout\",\"trousse\",data)\n",
    "    data=re.sub(r\"protege \",r\"protege-\",data)\n",
    "    \n",
    "    \n",
    "    \n",
    "    data=re.sub(r\"([0-9]) (vue)\",r\"\\1\\2\", data)\n",
    "    data=re.sub(r\"([0-9]) (feuille)\",r\"\\1\\2\", data)\n",
    "    data=re.sub(r\"copie  double\",r\" copiedouble\",data)\n",
    "    data=re.sub(r\"copie  simple\",r\" copiesimple\",data)\n",
    "    data=re.sub(r\"feuille  double\",r\" copiedouble\",data)\n",
    "    data=re.sub(r\"feuille  simple\",r\" copiesimple\",data)\n",
    "    data=re.sub(r\"feuillet  mobile\",r\" copiesimple\",data)\n",
    "    data=re.sub(r\"seye\",r\"grandcarreau\",data)\n",
    "    \n",
    "    \n",
    "    #data=re.sub(r\"([0-9])  (copiedouble)\",r\"\\1\\2\", data)\n",
    "    #data=re.sub(r\"([0-9])  (copiesimple)\",r\"\\1\\2\", data)\n",
    "\n",
    "\n",
    "\n",
    "    return data"
   ]
  },
  {
   "cell_type": "code",
   "execution_count": 29,
   "id": "ef571e40",
   "metadata": {},
   "outputs": [],
   "source": [
    "def spliter(char):\n",
    "    char=char.split(\" \")\n",
    "    return char"
   ]
  },
  {
   "cell_type": "code",
   "execution_count": 30,
   "id": "ad0e1a65",
   "metadata": {
    "scrolled": true
   },
   "outputs": [],
   "source": [
    "df = pd.DataFrame(data=data[\"Désignation\"])\n",
    "df2 = pd.DataFrame(data=data[[\"N°\",\"Code catégorie\",\"Page scolaire\"]])\n",
    "df[\"Désignation\"]=df[\"Désignation\"].apply(clean)\n",
    "df[\"Désignation\"]=df[\"Désignation\"].apply(spliter)"
   ]
  },
  {
   "cell_type": "code",
   "execution_count": 31,
   "id": "2a32bc24",
   "metadata": {},
   "outputs": [],
   "source": [
    "dicto = {\n",
    "    \"a\": \"\",\n",
    "    \"6eme\": \"\",\n",
    "    \"5eme\": \"\",\n",
    "    \"4eme\": \"\",\n",
    "    \"3eme\": \"\",\n",
    "    'sixieme':\"\", \n",
    "    'troisieme':\"\",\n",
    "    'cinquieme':\"\",\n",
    "    'quatrieme':\"\",\n",
    "    \"fermeture\": \"\",\n",
    "    \"par\": \"\", \n",
    "    \"de\": \"\",\n",
    "    \"en\": \"\",\n",
    "    \"ce\": \"\",\n",
    "    \"avec\":\"\",\n",
    "    \"et\":\"\",\n",
    "    \"pour\":\"\",\n",
    "    \"la\":\"\",\n",
    "    \"do\":\"\",\n",
    "}"
   ]
  },
  {
   "cell_type": "code",
   "execution_count": 32,
   "id": "adf03a02",
   "metadata": {},
   "outputs": [],
   "source": [
    "def filter_dicto(df, dic):\n",
    "    t=[]\n",
    "    for w in df:\n",
    "        if w !=\"\":\n",
    "            if w not in dic.keys():\n",
    "                t.append(w)\n",
    "\n",
    "    return t"
   ]
  },
  {
   "cell_type": "code",
   "execution_count": 33,
   "id": "0cb84ae1",
   "metadata": {},
   "outputs": [
    {
     "name": "stdout",
     "output_type": "stream",
     "text": [
      "Pochette de 12 feuilles à dessin 224g format 24x32 cm \n",
      "['pochette', 'de', '12feuille', '', 'a', 'dessin', '224g', '24x32cm', '', '']\n"
     ]
    }
   ],
   "source": [
    "print(data[\"Désignation\"][L])\n",
    "print(df[\"Désignation\"][L])"
   ]
  },
  {
   "cell_type": "code",
   "execution_count": 34,
   "id": "22066275",
   "metadata": {},
   "outputs": [
    {
     "name": "stdout",
     "output_type": "stream",
     "text": [
      "['pochette', '12feuille', 'dessin', '224g', '24x32cm']\n"
     ]
    }
   ],
   "source": [
    "df[\"Désignation\"]=df[\"Désignation\"].apply(filter_dicto,dic=dicto)\n",
    "print(df[\"Désignation\"][L])"
   ]
  },
  {
   "cell_type": "code",
   "execution_count": 35,
   "id": "087824fc",
   "metadata": {},
   "outputs": [
    {
     "name": "stdout",
     "output_type": "stream",
     "text": [
      "cahier              211\n",
      "grandcarreau        128\n",
      "polypropylene       126\n",
      "17x22cm             124\n",
      "a4                  102\n",
      "pointe               96\n",
      "pochette             94\n",
      "24x32cm              90\n",
      "rabat                82\n",
      "bleu                 77\n",
      "96page               74\n",
      "classeur             70\n",
      "vert                 64\n",
      "feutre               61\n",
      "plastique            60\n",
      "rouge                57\n",
      "12                   52\n",
      "48page               52\n",
      "21x29,7cm            52\n",
      "stylo                52\n",
      "protege-document     51\n",
      "noir                 48\n",
      "3                    47\n",
      "petitcarreau         45\n",
      "protege-cahier       44\n",
      "assorti              43\n",
      "crayon               42\n",
      "fine                 42\n",
      "elastique            41\n",
      "etui                 40\n",
      "moyenne              40\n",
      "90g                  39\n",
      "stabilo              38\n",
      "jaune                38\n",
      "effacable            36\n",
      "incolore             35\n",
      "2                    34\n",
      "blanc                33\n",
      "bic                  31\n",
      "couleur              29\n",
      "4                    27\n",
      "sec                  26\n",
      "levier               26\n",
      "dessin               25\n",
      "ogive                25\n",
      "reliure              24\n",
      "orange               24\n",
      "sachet               23\n",
      "marqueur             23\n",
      "colori               23\n",
      "Name: Désignation, dtype: int64\n"
     ]
    },
    {
     "data": {
      "text/plain": [
       "646"
      ]
     },
     "execution_count": 35,
     "metadata": {},
     "output_type": "execute_result"
    }
   ],
   "source": [
    "print(df[\"Désignation\"].explode().value_counts().head(50))\n",
    "len(df[\"Désignation\"].explode().value_counts())"
   ]
  },
  {
   "cell_type": "code",
   "execution_count": 36,
   "id": "2e451d90",
   "metadata": {},
   "outputs": [
    {
     "name": "stdout",
     "output_type": "stream",
     "text": [
      "moyenne            40\n",
      "90g                39\n",
      "stabilo            38\n",
      "jaune              38\n",
      "effacable          36\n",
      "incolore           35\n",
      "2                  34\n",
      "blanc              33\n",
      "bic                31\n",
      "couleur            29\n",
      "4                  27\n",
      "sec                26\n",
      "levier             26\n",
      "dessin             25\n",
      "ogive              25\n",
      "reliure            24\n",
      "orange             24\n",
      "sachet             23\n",
      "marqueur           23\n",
      "colori             23\n",
      "brosse             23\n",
      "1                  23\n",
      "100page            22\n",
      "papier             22\n",
      "cartonnee          22\n",
      "soie               21\n",
      "tableau            21\n",
      "32page             21\n",
      "2cm                20\n",
      "boite              20\n",
      "violet             20\n",
      "50                 19\n",
      "souple             19\n",
      "frixion            18\n",
      "6                  18\n",
      "plate              18\n",
      "rose               17\n",
      "compa              17\n",
      "velleda            17\n",
      "colle              17\n",
      "copiesimple        17\n",
      "maped              17\n",
      "4cm                17\n",
      "majuscule          16\n",
      "cristal            16\n",
      "incassable         16\n",
      "large              16\n",
      "rond               16\n",
      "100                16\n",
      "a4+                16\n",
      "perforee           15\n",
      "travaux            15\n",
      "personnalisable    15\n",
      "pratique           15\n",
      "graphite           15\n",
      "poche              14\n",
      "dictionnaire       14\n",
      "cartonne           14\n",
      "mine               14\n",
      "baton              14\n",
      "Name: Désignation, dtype: int64\n"
     ]
    }
   ],
   "source": [
    "print(df[\"Désignation\"].explode().value_counts().iloc[30:90])"
   ]
  },
  {
   "cell_type": "code",
   "execution_count": 37,
   "id": "3b418ab6",
   "metadata": {},
   "outputs": [
    {
     "name": "stdout",
     "output_type": "stream",
     "text": [
      "                                           Désignation     N° Code catégorie  \\\n",
      "0                     ['sacoche', 'dessin', '26x33cm']  54568        2200240   \n",
      "1                     ['sacoche', 'dessin', '32x45cm']  37721        2200240   \n",
      "2                     ['sacoche', 'dessin', '37x52cm']  10908        2200240   \n",
      "3    ['bloc', '40page', 'papier', 'dessin', 'blanc'...  15972        2200230   \n",
      "4    ['bloc', '40page', 'papier', 'dessin', 'blanc'...  15971        2200230   \n",
      "..                                                 ...    ...            ...   \n",
      "866                                 ['savon', '500ml']  61770        2001012   \n",
      "867                ['gel', 'hydroalcoolique', '100ml']  28646        2001012   \n",
      "868    ['paquet', '60', 'lingette', 'antibacterienne']   9040        2001012   \n",
      "869                       ['boite', '100', 'mouchoir']  78756        2001010   \n",
      "870         ['lot', '2', 'rouleaux', 'essuie', 'tout']  78757        2001007   \n",
      "\n",
      "    Page scolaire  \n",
      "0             770  \n",
      "1             770  \n",
      "2             770  \n",
      "3             772  \n",
      "4             772  \n",
      "..            ...  \n",
      "866          B061  \n",
      "867          B061  \n",
      "868          1143  \n",
      "869          1144  \n",
      "870          1144  \n",
      "\n",
      "[871 rows x 4 columns]\n"
     ]
    }
   ],
   "source": [
    "df3=pd.concat([df[\"Désignation\"], df2], axis=1)\n",
    "df3 = df3.dropna(axis = 0)\n",
    "df3.to_csv('Liste.csv',index=False) \n",
    "a = pd.read_csv('Liste.csv')\n",
    "print(a)"
   ]
  },
  {
   "cell_type": "code",
   "execution_count": 38,
   "id": "7966013e",
   "metadata": {},
   "outputs": [
    {
     "name": "stdout",
     "output_type": "stream",
     "text": [
      "['sacoche', 'dessin', '26x33cm', '32x45cm', '37x52cm', 'papier', 'blanc', 'bloc', '40page', '120g', '21x29,7cm', 'a4', '160g', '24x32cm', 'pochette', '12feuille', '180g', '10feuille', '29,7x42cm', 'a3', '224g', 'cansonanson', 'cansonouleur', 'couleur', 'teinte', 'vive', 'pastel', 'noir', 'calque', 'millimetre', '50feuille', 'uni', 'paquet', 'craie', 'boite', '12', 'sec', 'huile', 'stick', 'gouache', '16', 'cire', 'crayon', 'majuscule', '24', 'giotto', 'color', '30', 'etui', 'evolution', '18', 'effacable', 'illusion', 'triangulaire', 'nori', 'colour', '185', 'stilnovo', 'schoo', 'pep', 'ferby', 'pointe', 'large', 'couleu', 'aquarellable', 'club', 'gro', 'module', 'triple', 'one', 'lyra', 'mega', 'school', 'maxi', 'feutre', 'coloriage', 'fine', 'visa', '880', 'stabilo', 'trio', 'a-z', 'moyenne', 'turbo', 'advanced', 'power', 'kid', 'xl', 'extra', 'visacolor', 'gobelet', 'gouache/gouache', '5', 'tube', '10ml', 'primaire', '10', 'assortie', 'ml', '250', 'concentree', 'assorti', 'pastille', 'godet', 'aquarelle', 'blouse', 'taille', '0', '1', '2', '3', '4', 'palette', 'rectangulaire', 'ovale', 'anti-verse', '125', 'pinceaux', 'poney', 'pinceau', 'n', '6', '8', '14', '20', '22', 'brosse', 'plate', 'soie', 'ndeg2', 'ndeg4', 'ndeg6', 'ndeg8', 'ndeg10', 'ndeg12', 'ndeg14', 'ndeg16', 'ndeg18', 'ndeg20', 'ndeg22', 'rond', 'e', 'ndeg24', 'rouleaux', 'peindre', 'rouleau', 'mousse', '25mm', '50mm', '45mm', 'pate', 'modeler', 'pot', '112', 'gramme', 'play-doh', 'cahier', 'polypro', 'grandcarreau', '17x22cm', '32page', 'polypropylene', '90g', 'bleu', 'rouge', 'vert', 'jaune', 'rose', 'violet', 'orange', '48page', 'gri', 'perle', 'incolore', '64page', '96page', '192page', '140page', 'index', 'pique', 'petitcarreau', 'colori', 'travaux', 'pratique', 'poesie', '90g/uni', 'rabat', 'grandcarreausjaune', 'reliure', '100page', '180page', 'texte', '124page', 'agenda', 'scolaire', '80page', 'journalier', 'septembre', 'aout', '11,5x17cm', 'motif', '\"planete\"', 'apprentissage', 'maternelle', '1page', 'lignee', 'traver', '18mm', '/1page', 'double', 'ligne', '3mm', '/', '4mm', 'blanche', '5mm', '2mm', 'iv', 'reglure', 'secail', '2,5mm', 'cansonarte', '16page', 'musique', 'carte', 'chant', 'brouillon', '100%', 'recycle', '60page', 'brochure', ',21x29,7cm', 'cartonnee', ',petitcarreau', 'cartonne', '22x17cm', 'italienne', 'carnet', 'plastifie', '9x14cm', '11x17cm', 'cartone', 'cartonee', 'repertoire', '14,8x21cm', 'protege-cahier', 'transparent', 'clair', 'pvc', ',24x32cm', 'couvre-livre', '40cmx5,5m', 'kit', 'plio', 'handicap', 'international', 'protege-document', '20vue', '40vue', '60vue', '80vue', '100vue', '120vue', '160vue', '200vue', 'translucide', 'aleatoire', 'personnalisable', 'classeur', 'plastique', 'souple', 'anneaux', '2cm', 'rigide', '4cm', 'roi', 'azur', 'anglai', 'lagon', 'lila', '40cm', 'rigidet', 'a4+', 'semi-rigide', 'fonce', 'a4+,do', 'enplastique', 'levier', '7cm', 'fiche', 'bristol', 'fichier', 'carton', '5cm', '8cm', 'framboise', 'copiesimple', 'sachet', '50', '100', '200page', '200', '400page', 'copiedouble', 'perforee', 'cour', '25', 'epaisse', 'intercalaire', 'jeu', 'intercalairescartonne', 'position', 'oeillet', 'blister', '160', 'adhesif', 'non', '12,5x20cm', '10x15cm', '205g', 'elastique', 'bordeaux', 'coloriassorti', 'beige', 'prune', 'frai', 'san', 'classement', 'grainee', 'enveloppe', 'trieur', 'lustree', 'compartiment', 'fresh', '+', 'coin', 'dictionnaire', 'larousse', 'francai', '/anglai', 'college', '/allemand', '/espagnol', 'poche', 'hachette', 'allemand', '&', 'langenscheidt', 'espagnol', 'vox', 'debutant', 'cp/ce', 'ce1-ce2-cm1-cm2', 'super', 'major', 'cm1', 'du', '2022', 'le', 'petit', 'illustre', 'robert', 'junior', 'bescherelle', 'conjugaison', 'tou', 'orthographe', 'grammaire', 'vocabulaire', 'calculatrice', 'chiffre', 'texa', 'ti-106ii', 'scientifique', 'instrument', 'ti-college', 'plu', 'solaire', 'casio', 'fx92', 'speciale', 'graphique', 'graph', '90+', 'graphite', 'easygraph', 'droitier', 'gaucher', 'hb', 'groove', 'slim', '2b', 'b', 'h', '2h', 'bout', 'gomme', 'hexagonal', 'boi', 'naturel', 'verni', 'mine', '0,5mm', '0,7mm', 'hi-polymer', 'diametre', 'porte-mine', 'porte', 'rechargeable', 'jetable', 'bic', 'matic', 'grip', 'ecolution', 'original', 'stylo', 'bille', 'cristal', 'softgrip', 'inkjoy100', 'papermate', 'inkjoy', 'slider', 'edge', 'xb', 'fun', 'encre', 'frixion', 'recharge', 'ball', 'roller', 'frixionpointe', 'set', 'plume', 'atome', 'effaceur', 'reecriveur', 'magic', 'writer', 'cartouche', 'easy', 'smiley', 'internationale', 'courte', 'noire', 'point', '88', '15', 'point88', 'baguee', 'flair', 'marqueur', 'permanent', 'inelebile', 'ogive', 'indelebile', 't', 'lumocolor', '0,4mm', '0,6mm', 'tableau', 'velleda', '1701', '1711', 'bos', 'universelle', 'fluorescente', 'o', 'highlighter', 'trousse', 'plat', 'plateau', 'correcteur', 'mini', 'mouse', '5mmx6m', 'frontal', '5mmx8m', 'tippexeasy', 'refill', '5mmx14m', 'tippex', 'taille-crayon', 'metal', 'usage', 'reserve', 'ergo', 'buro', 'galactic', 'bulbo', \"color'pep\", 'technic', '600', 'green', 'mar', 'bicolore', 'architecte', 'ovalyne', 'sou', 'ciseaux', '13cm', '16cm', '17cm', 'pointu', 'soft', 'blue', '21cm', 'ambidextre', 'universel', 'first', 'symetrique', 'asymetrique', 'compa', 'bague', 'maped', 'essential', 'study', 'coffret', 'csystem', 'innovation', 'stop', 'and', 'safe', 'basique', 'taille-mine', 'system', 'mixte', 'open', 'origin', 'technique', 'accessoire', 'tracage', 'gamme', 'regle', '20cm', '30cm', 'decimetre', 'equerre', '45deg', '60deg', 'geometrique', 'rapporteur', '180deg', '360deg', 'article', 'economique', 'incassable', '12cm', '60', 'degre', '180', 'piece', 'geometrie', 'special', 'reglet', 'inox2', 'face', 'aluminium', 'symbole', 'tactique', 'otan', 'trace', 'cercle', 'pair', 'impair', '30mm', 'ardoise', 'cadre', 'e1', 'douze', 'epongette', 'une', 'unie', 'cote', 'chiffon', 'microfibre', '20x20cm', 'colle', 'gel', 'transparente', 'liquide', 'baton', '8g', '25g', '36g', 'cleostick', '21g', 'scotch', 'lot', '\"scotch\"', 'modele', 'uhu', '8,2g', 'grand', 'geant', '40g', 'invisible', '19mmx33m', 'ramette', '500feuille', '80g', 'ecouteur', 'casque', 'stereo', 'jack', 'micro', 'usb', 'filaire', 'etiquette', '56x36cm', 'mm', '210', '36x56cm', 'plaque', 'porte-bloc', 'bureau', '100feuille', '60g', 'a6', 'a5', 'steno', 'agrafeuse', 'perforateur', 'trou', '24/6', '26/6', '1000', 'agrafe', 'cle', 'go', '32', 'cadena', '40mm', 'combinaison', 'produit', 'd', 'hygiene', 'savon', '500ml', 'hydroalcoolique', '100ml', 'lingette', 'antibacterienne', 'mouchoir', 'essuie', 'tout']\n"
     ]
    }
   ],
   "source": [
    "df_list=list(df[\"Désignation\"].explode().unique())\n",
    "print(df_list)"
   ]
  },
  {
   "cell_type": "code",
   "execution_count": 39,
   "id": "efffb7bb",
   "metadata": {},
   "outputs": [],
   "source": [
    "import json\n",
    "\n",
    "jsonString = json.dumps(df_list)\n",
    "with open('white_liste.json', 'w') as f:\n",
    "    f.write(jsonString)"
   ]
  },
  {
   "cell_type": "code",
   "execution_count": null,
   "id": "e46a7848",
   "metadata": {},
   "outputs": [],
   "source": []
  },
  {
   "cell_type": "code",
   "execution_count": null,
   "id": "d93b71fe",
   "metadata": {},
   "outputs": [],
   "source": []
  },
  {
   "cell_type": "code",
   "execution_count": null,
   "id": "c6815ae4",
   "metadata": {},
   "outputs": [],
   "source": []
  }
 ],
 "metadata": {
  "kernelspec": {
   "display_name": "Python 3 (ipykernel)",
   "language": "python",
   "name": "python3"
  },
  "language_info": {
   "codemirror_mode": {
    "name": "ipython",
    "version": 3
   },
   "file_extension": ".py",
   "mimetype": "text/x-python",
   "name": "python",
   "nbconvert_exporter": "python",
   "pygments_lexer": "ipython3",
   "version": "3.9.12"
  }
 },
 "nbformat": 4,
 "nbformat_minor": 5
}
